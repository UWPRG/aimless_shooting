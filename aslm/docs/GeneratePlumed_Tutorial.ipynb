{
 "cells": [
  {
   "cell_type": "markdown",
   "metadata": {},
   "source": [
    "# Tutorial: Creating a list of candidate Collecitve Variable susing GeneratePlumed()"
   ]
  },
  {
   "cell_type": "code",
   "execution_count": 1,
   "metadata": {},
   "outputs": [],
   "source": [
    "from plumed import GeneratePlumed"
   ]
  },
  {
   "cell_type": "markdown",
   "metadata": {},
   "source": [
    "### Adding distance, angle, or torsion CVs"
   ]
  },
  {
   "cell_type": "code",
   "execution_count": 2,
   "metadata": {},
   "outputs": [
    {
     "name": "stdout",
     "output_type": "stream",
     "text": [
      "\n",
      "# DISTANCES \n",
      "d0: DISTANCE ATOMS=1,2 NOPBC\n",
      "d1: DISTANCE ATOMS=1,4 NOPBC\n",
      "d2: DISTANCE ATOMS=2,4 NOPBC\n",
      "\n",
      "# DIFFERENCE OF DISTANCES \n",
      "dd0: COMBINE ARG=d0,d1 COEFFICIENTS=1.0,-1.0 PARAMETERS=0.0,0.0 POWERS=1.0,1.0 PERIODIC=NO\n",
      "dd1: COMBINE ARG=d0,d2 COEFFICIENTS=1.0,-1.0 PARAMETERS=0.0,0.0 POWERS=1.0,1.0 PERIODIC=NO\n",
      "dd2: COMBINE ARG=d1,d2 COEFFICIENTS=1.0,-1.0 PARAMETERS=0.0,0.0 POWERS=1.0,1.0 PERIODIC=NO\n",
      "\n",
      "# ANGLES \n",
      "a0: ANGLE ATOMS=1,2,3 NOPBC\n",
      "a1: ANGLE ATOMS=1,2,4 NOPBC\n",
      "a2: ANGLE ATOMS=1,3,4 NOPBC\n",
      "a3: ANGLE ATOMS=2,3,4 NOPBC\n",
      "\n",
      "# TORSION \n",
      "t0: TORSION ATOMS=1,3,4,5 NOPBC\n",
      "\n"
     ]
    }
   ],
   "source": [
    "x = GeneratePlumed() # Initiate class\n",
    "\n",
    "# Add Collective Variables (CV's) or Order Parameters (OP's)\n",
    "\n",
    "x.add_distances(atoms=[1,2,4], diff_of_dist=True, periodic=False, components=False)\n",
    "x.add_angles(atoms=[1,2,3,4], periodic=False)\n",
    "x.add_torsion(atoms=[1,3,4,5], periodic=False)\n",
    "\n",
    "# The defaults for perioidc and components are False, alternatively you could use: \n",
    "\n",
    "    #x.add_distances(atoms=[1,2,4], diff_of_dist=True)\n",
    "    #x.add_angles(atoms=[1,2,4])\n",
    "    #x.add_torsion(atoms=[1,2,3,4])\n",
    "\n",
    "print(x.string)"
   ]
  },
  {
   "cell_type": "markdown",
   "metadata": {},
   "source": [
    "### Use add_group function to define more complex CVs\n",
    "\n",
    "In add_group the atom list is a string, this allows for freedom to define any group of atoms together"
   ]
  },
  {
   "cell_type": "code",
   "execution_count": 3,
   "metadata": {},
   "outputs": [
    {
     "name": "stdout",
     "output_type": "stream",
     "text": [
      "\n",
      "#GROUPS OF ATOMS \n",
      "wat: GROUP ATOMS=1-100:3\n",
      "na: GROUP ATOMS=1\n",
      "cl: GROUP ATOMS=2\n",
      "\n",
      "#COORDINATION \n",
      "c0: COORDINATION GROUPA=wat GROUPB=na R_0=0.26 NN=6 MM=0 D_0=0.0 NLIST NL_CUTOFF=0.5 NL_STRIDE=1\n",
      "c1: COORDINATION GROUPA=wat GROUPB=cl R_0=0.26 NN=6 MM=0 D_0=0.0 NLIST NL_CUTOFF=0.5 NL_STRIDE=1\n",
      "c2: COORDINATION GROUPA=na GROUPB=cl R_0=0.15 NN=6 MM=0 D_0=0.0 NLIST NL_CUTOFF=0.5 NL_STRIDE=1\n",
      "\n",
      "#GROUPS OF ATOMS \n",
      "r1: GROUP ATOMS=1,2,3,4,5\n",
      "\n",
      "#PUCKERING \n",
      "puck0: PUCKERING ATOMS=r1\n",
      "puck1: PUCKERING ATOMS=1,2,3,4,5,6\n",
      "\n"
     ]
    }
   ],
   "source": [
    "# Sometimes it is helpful to create groups of atoms for more complex CVs\n",
    "\n",
    "x = GeneratePlumed()\n",
    "\n",
    "# Good for coordination numbers\n",
    "x.add_group(group_name=['wat','na','cl'], atoms=['1-100:3','1','2'])\n",
    "x.add_coordination(group_a=['wat','wat','na'], group_b=['na','cl','cl'],\n",
    "                   r_0=[0.26,0.26,0.15], nl_cutoff=[0.5,0.5,0.5], nlist=True, \n",
    "                   nn=6, mm=0, d_0=0.0)\n",
    "\n",
    "# Or to define puckering coordinates for a sugar ring\n",
    "x.add_group(group_name=['r1'], atoms=['1,2,3,4,5']) \n",
    "x.add_puckering(atoms=[['r1'],[1,2,3,4,5,6]])\n",
    "\n",
    "print(x.string)"
   ]
  },
  {
   "cell_type": "markdown",
   "metadata": {},
   "source": [
    "### Add basin information, to define stopping criteria for aimless shooting"
   ]
  },
  {
   "cell_type": "code",
   "execution_count": 4,
   "metadata": {},
   "outputs": [
    {
     "name": "stdout",
     "output_type": "stream",
     "text": [
      "Difference of distance CV not generated, requires at least 2 distance CVs\n",
      "\n",
      "# DISTANCES \n",
      "d0: DISTANCE ATOMS=1,2 NOPBC\n",
      "\n",
      "COMMITTOR ...\n",
      "ARG=d1,d2\n",
      "BASIN_LL1=0.2,0.1\n",
      "BASIN_UL1=0.4,0.6\n",
      "BASIN_LL2=1.3,1.5\n",
      "BASIN_UL2=0.3,0.6\n",
      "STRIDE=1\n",
      "... COMMITTOR\n",
      "\n"
     ]
    }
   ],
   "source": [
    "# Add basin information for aimless shooting \n",
    "\n",
    "x = GeneratePlumed()\n",
    "\n",
    "x.add_distances(atoms=[1,2], diff_of_dist=False)\n",
    "x.add_committor(basins=2,basin_CV=['d1','d2'],limit=[[0.2,0.1,0.4,0.6],[1.3,1.5,0.3,0.6]])\n",
    "\n",
    "print(x.string)"
   ]
  },
  {
   "cell_type": "markdown",
   "metadata": {},
   "source": [
    "# Example of generating a plumed file\n",
    "-> Initiate class  \n",
    "-> Add candidate CVs  \n",
    "-> Add a committor (to define basins)  \n",
    "-> Write to file"
   ]
  },
  {
   "cell_type": "code",
   "execution_count": 5,
   "metadata": {},
   "outputs": [],
   "source": [
    "x = GeneratePlumed()\n",
    "\n",
    "x.add_distances(atoms=[1,2,4], diff_of_dist=True)\n",
    "x.add_angles(atoms=[1,2,4])\n",
    "x.add_torsion(atoms=[1,2,3,4])\n",
    "\n",
    "x.add_group(group_name=['wat','na','cl'], atoms=['1-100','1','2']) \n",
    "x.add_coordination(group_a=['wat','wat','na'], group_b=['na','cl','cl'],\n",
    "                   r_0=[0.26,0.26,0.15], nl_cutoff=[0.5,0.5,0.5], nlist=True)\n",
    "\n",
    "x.add_committor(basins=2,basin_CV=['d1'],limit=[[0.2,0.4],[1.3,1.5]])\n",
    "    \n",
    "x.write_file(plumed_file='plumed.dat')"
   ]
  },
  {
   "cell_type": "code",
   "execution_count": 6,
   "metadata": {},
   "outputs": [
    {
     "name": "stdout",
     "output_type": "stream",
     "text": [
      "# vim:ft=plumed\n",
      "\n",
      "# DISTANCES \n",
      "d0: DISTANCE ATOMS=1,2 NOPBC\n",
      "d1: DISTANCE ATOMS=1,4 NOPBC\n",
      "d2: DISTANCE ATOMS=2,4 NOPBC\n",
      "\n",
      "# DIFFERENCE OF DISTANCES \n",
      "dd0: COMBINE ARG=d0,d1 COEFFICIENTS=1.0,-1.0 PARAMETERS=0.0,0.0 POWERS=1.0,1.0 PERIODIC=NO\n",
      "dd1: COMBINE ARG=d0,d2 COEFFICIENTS=1.0,-1.0 PARAMETERS=0.0,0.0 POWERS=1.0,1.0 PERIODIC=NO\n",
      "dd2: COMBINE ARG=d1,d2 COEFFICIENTS=1.0,-1.0 PARAMETERS=0.0,0.0 POWERS=1.0,1.0 PERIODIC=NO\n",
      "\n",
      "# ANGLES \n",
      "a0: ANGLE ATOMS=1,2,4 NOPBC\n",
      "\n",
      "# TORSION \n",
      "t0: TORSION ATOMS=1,2,3,4 NOPBC\n",
      "\n",
      "#GROUPS OF ATOMS \n",
      "wat: GROUP ATOMS=1-100\n",
      "na: GROUP ATOMS=1\n",
      "cl: GROUP ATOMS=2\n",
      "\n",
      "#COORDINATION \n",
      "c0: COORDINATION GROUPA=wat GROUPB=na R_0=0.26 NN=6 MM=0 D_0=0.0 NLIST NL_CUTOFF=0.5 NL_STRIDE=1\n",
      "c1: COORDINATION GROUPA=wat GROUPB=cl R_0=0.26 NN=6 MM=0 D_0=0.0 NLIST NL_CUTOFF=0.5 NL_STRIDE=1\n",
      "c2: COORDINATION GROUPA=na GROUPB=cl R_0=0.15 NN=6 MM=0 D_0=0.0 NLIST NL_CUTOFF=0.5 NL_STRIDE=1\n",
      "\n",
      "COMMITTOR ...\n",
      "ARG=d1\n",
      "BASIN_LL1=0.2\n",
      "BASIN_UL1=0.4\n",
      "BASIN_LL2=1.3\n",
      "BASIN_UL2=1.5\n",
      "STRIDE=1\n",
      "... COMMITTOR\n",
      "\n",
      "PRINT STRIDE=1 ARG=* FILE=COLVAR"
     ]
    }
   ],
   "source": [
    "%%script bash\n",
    "# Preview the file we just created \n",
    "\n",
    "cat plumed.dat"
   ]
  },
  {
   "cell_type": "code",
   "execution_count": null,
   "metadata": {},
   "outputs": [],
   "source": []
  },
  {
   "cell_type": "code",
   "execution_count": null,
   "metadata": {},
   "outputs": [],
   "source": []
  }
 ],
 "metadata": {
  "kernelspec": {
   "display_name": "Python [default]",
   "language": "python",
   "name": "python3"
  },
  "language_info": {
   "codemirror_mode": {
    "name": "ipython",
    "version": 3
   },
   "file_extension": ".py",
   "mimetype": "text/x-python",
   "name": "python",
   "nbconvert_exporter": "python",
   "pygments_lexer": "ipython3",
   "version": "3.5.2"
  }
 },
 "nbformat": 4,
 "nbformat_minor": 2
}
